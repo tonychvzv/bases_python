{
 "cells": [
  {
   "cell_type": "code",
   "execution_count": 1,
   "metadata": {},
   "outputs": [],
   "source": [
    "class Bank:\n",
    "    def __init__(self, BankName: str, Client: str, Account: int, CreditCard :int):\n",
    "        self.BankName = BankName\n",
    "        self.Client = Client\n",
    "        self.Account = Account\n",
    "        self.CreditCard =  CreditCard\n",
    "\n"
   ]
  },
  {
   "cell_type": "code",
   "execution_count": 2,
   "metadata": {},
   "outputs": [],
   "source": [
    "class Account:\n",
    "    def _init_(self, Account: str, Balance: float, Debit: float, Credit: float):\n",
    "        self.Account = Account\n",
    "        self.Balance = Balance\n",
    "        self.Debit = Debit\n",
    "        self.Credit = Credit\n"
   ]
  },
  {
   "cell_type": "code",
   "execution_count": 3,
   "metadata": {},
   "outputs": [],
   "source": [
    "from typing import List\n",
    "\n",
    "class Client:\n",
    "    def __init__(self, Surname: str, GivenName: str, Address: str, Email: str, Profession: str, Income: int, Account : str):\n",
    "        self.Surname = Surname\n",
    "        self.GivenName = GivenName\n",
    "        self.Address = Address\n",
    "        self.Email = Email\n",
    "        self.Profession = Profession\n",
    "        self.Income = Income\n",
    "        self.Account = Account\n",
    "        \n"
   ]
  },
  {
   "cell_type": "code",
   "execution_count": 4,
   "metadata": {},
   "outputs": [],
   "source": [
    "from typing import List\n",
    "\n",
    "Client1 = Client(\"Dupond\", \"Antoine\", \"2 Place du Capitole, Toulouse\", \"adupond@gmail.com\", \"Rugby player\", \"1000000\", \"C0001\" )\n",
    "Client2 = Client(\"Mbappe\", \"Kylian\", \"58 Avenue des Champs Elysees, Paris\", \"kykybut@laposte.fr\", \"Football player\", \"15000000\",\"C0002\")\n",
    "Client3 = Client(\"Parker\", \"Tony\", \"8 Rue de la Republique, Lyon\", \"totolechampion@hotmail.com\", \"Basketball player\", \"200000000\", \"C0003\")"
   ]
  },
  {
   "cell_type": "code",
   "execution_count": 5,
   "metadata": {},
   "outputs": [
    {
     "data": {
      "text/plain": [
       "'Antoine'"
      ]
     },
     "execution_count": 5,
     "metadata": {},
     "output_type": "execute_result"
    }
   ],
   "source": [
    "Client1.GivenName"
   ]
  },
  {
   "cell_type": "code",
   "execution_count": 6,
   "metadata": {},
   "outputs": [],
   "source": [
    "class CreditCard:\n",
    "    def _init_ (self, Account: str, CreditCardNumber: str, ExpiryDate: str, ccv: str):\n",
    "        self.Account = Account\n",
    "        self.CreditCardNumber = CreditCardNumber\n",
    "        self.ExpiryDate = ExpiryDate\n",
    "        self.ccv = ccv\n",
    "\n",
    "class NewCreditCard :\n",
    "    def _init_(self):\n",
    "        self.NewCreditCard = []\n",
    "\n",
    "    def add_CreditCard(self, CreditCard: str):\n",
    "        self.NewCreditCard.append(CreditCard)"
   ]
  },
  {
   "cell_type": "code",
   "execution_count": 7,
   "metadata": {},
   "outputs": [],
   "source": [
    "# Creation d'une banque\n",
    "banque = Bank(\"Credit Mutuelles\", \"Toto\", 23456, 2345)"
   ]
  },
  {
   "cell_type": "code",
   "execution_count": null,
   "metadata": {},
   "outputs": [],
   "source": []
  }
 ],
 "metadata": {
  "kernelspec": {
   "display_name": "Python 3",
   "language": "python",
   "name": "python3"
  },
  "language_info": {
   "codemirror_mode": {
    "name": "ipython",
    "version": 3
   },
   "file_extension": ".py",
   "mimetype": "text/x-python",
   "name": "python",
   "nbconvert_exporter": "python",
   "pygments_lexer": "ipython3",
   "version": "3.12.0"
  }
 },
 "nbformat": 4,
 "nbformat_minor": 2
}
